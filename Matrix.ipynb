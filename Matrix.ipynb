{
 "cells": [
  {
   "cell_type": "markdown",
   "metadata": {
    "collapsed": false
   },
   "source": [
    "## Matrix Class\n",
    "   It is a template class for matrix, it uses vectors of vector to store the elements. Has several overloaded oprators for working with matrices.\n",
    "## Template\n",
    "   Templates are a feature of the c++ which allows a function or class to work on many different data types without being rewritten for each one.\n",
    "## operator-overloading\n",
    "   Operator overloading is defining operations for different types of data. This is useful for having an operation to use for different types. We have Assignment operator and Addition\n"
   ]
  },
  {
   "cell_type": "code",
   "execution_count": 0,
   "metadata": {
    "collapsed": false
   },
   "outputs": [
   ],
   "source": [
   ]
  }
 ],
 "metadata": {
  "kernelspec": {
   "display_name": "Bash (Linux)",
   "language": "bash",
   "name": "bash"
  },
  "language_info": {
   "codemirror_mode": "shell",
   "file_extension": ".sh",
   "mimetype": "text/x-sh",
   "name": "bash"
  }
 },
 "nbformat": 4,
 "nbformat_minor": 0
}