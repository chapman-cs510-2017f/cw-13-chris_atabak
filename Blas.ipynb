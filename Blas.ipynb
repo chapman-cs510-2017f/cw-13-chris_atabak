{
 "cells": [
  {
   "cell_type": "markdown",
   "metadata": {
    "collapsed": false
   },
   "source": [
    "# Blas"
   ]
  },
  {
   "cell_type": "markdown",
   "metadata": {
    "collapsed": false
   },
   "source": [
    "The code imports the Matrix library and uses it to initialize a matrix, assign values to the entries of the matrix, and prints the matrix. Three matrices are built with the first being a simple ennumerated matrix, the second being complex numbers indicating the row and column, and the third being the squares of elements of the second matrix. The program then prints the three matrices and operations with matrices including adding, subtracting and multiplying matrices.  The code is much simpler than the code for Stack and Queue. We do not need to build a structure, instead using a library with a built in structure and built in operations. The <type> defines the type of the entries of the matrix. The Blas matrix is row majored and we can tell because the index starts from 0. In the code itself we can see that both r and c in the for loop starts from 0."
   ]
  },
  {
   "cell_type": "code",
   "execution_count": 0,
   "metadata": {
    "collapsed": false
   },
   "outputs": [
   ],
   "source": [
   ]
  }
 ],
 "metadata": {
  "kernelspec": {
   "display_name": "Bash (Linux)",
   "language": "bash",
   "name": "bash"
  },
  "language_info": {
   "codemirror_mode": "shell",
   "file_extension": ".sh",
   "mimetype": "text/x-sh",
   "name": "bash"
  }
 },
 "nbformat": 4,
 "nbformat_minor": 0
}